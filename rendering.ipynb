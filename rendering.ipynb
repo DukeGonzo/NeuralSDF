{
 "cells": [
  {
   "cell_type": "code",
   "execution_count": 1,
   "metadata": {},
   "outputs": [],
   "source": [
    "from ipywidgets import interact"
   ]
  },
  {
   "cell_type": "code",
   "execution_count": 4,
   "metadata": {},
   "outputs": [],
   "source": [
    "import torch"
   ]
  },
  {
   "cell_type": "code",
   "execution_count": 15,
   "metadata": {},
   "outputs": [],
   "source": [
    "import matplotlib.pyplot as plt\n",
    "import matplotlib.patches as patches\n",
    "\n",
    "plt.style.use('ggplot')\n",
    "%matplotlib inline\n",
    "plt.rcParams['figure.figsize'] = (18,12) # set default size of plots"
   ]
  },
  {
   "cell_type": "code",
   "execution_count": 6,
   "metadata": {},
   "outputs": [],
   "source": [
    "from training.sdf_experiment import SdfExperiment, Siren\n",
    "from renderer.camera import Camera\n",
    "from renderer.renderer import SphereTracingRenderer"
   ]
  },
  {
   "cell_type": "code",
   "execution_count": 5,
   "metadata": {},
   "outputs": [],
   "source": [
    "state = torch.load('lightning_logs/version_19/checkpoints/epoch=112-step=61924.ckpt')"
   ]
  },
  {
   "cell_type": "code",
   "execution_count": 9,
   "metadata": {},
   "outputs": [],
   "source": [
    "siren = Siren(3, 512, 5, outermost_linear=True, \n",
    "              out_features=1, \n",
    "              first_omega_0=50, \n",
    "              hidden_omega_0=30, \n",
    "              use_geometric_initialization=True)"
   ]
  },
  {
   "cell_type": "code",
   "execution_count": 13,
   "metadata": {},
   "outputs": [],
   "source": [
    "siren.load_state_dict({k.replace('sdf_model.', ''):v for k,v in state['state_dict'].items()})\n",
    "siren = siren.cuda()"
   ]
  },
  {
   "cell_type": "code",
   "execution_count": 14,
   "metadata": {},
   "outputs": [],
   "source": [
    "width, height = 512, 512"
   ]
  },
  {
   "cell_type": "code",
   "execution_count": 16,
   "metadata": {},
   "outputs": [
    {
     "data": {
      "application/vnd.jupyter.widget-view+json": {
       "model_id": "0268378a57294e9d9f3e3f6e4c265dd8",
       "version_major": 2,
       "version_minor": 0
      },
      "text/plain": [
       "interactive(children=(FloatSlider(value=1.7000000000000002, description='dist', max=3.0, min=0.5), IntSlider(v…"
      ]
     },
     "metadata": {},
     "output_type": "display_data"
    }
   ],
   "source": [
    "@interact\n",
    "def render(\n",
    "        dist=(0.5,3, 0.1),\n",
    "        elev=(-360, 360, 1),\n",
    "        azim=(-360, 360, 1),\n",
    "        max_iteration = (1, 150, 1),\n",
    "        max_depth = (1,5, 1)):\n",
    "    camera = Camera(dist, elev, azim, resolution=256)\n",
    "    rend = SphereTracingRenderer(camera, max_iteration=max_iteration,max_depth=max_depth )\n",
    "    frame = rend.render(siren).detach().cpu().numpy()\n",
    "    plt.grid(visible=None)\n",
    "    plt.imshow(frame)\n",
    "    plt.show() "
   ]
  },
  {
   "cell_type": "code",
   "execution_count": null,
   "metadata": {},
   "outputs": [],
   "source": []
  }
 ],
 "metadata": {
  "kernelspec": {
   "display_name": "Python 3.8.13 ('newanna')",
   "language": "python",
   "name": "python3"
  },
  "language_info": {
   "codemirror_mode": {
    "name": "ipython",
    "version": 3
   },
   "file_extension": ".py",
   "mimetype": "text/x-python",
   "name": "python",
   "nbconvert_exporter": "python",
   "pygments_lexer": "ipython3",
   "version": "3.8.13"
  },
  "orig_nbformat": 4,
  "vscode": {
   "interpreter": {
    "hash": "6f265d0675a4f7b3addba075f8e55dcdec09b3519047c559adb6e71428016575"
   }
  }
 },
 "nbformat": 4,
 "nbformat_minor": 2
}
